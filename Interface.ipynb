{
 "cells": [
  {
   "cell_type": "code",
   "execution_count": 4,
   "id": "882e179f-d085-4146-9e2e-fc5d1e916c61",
   "metadata": {},
   "outputs": [
    {
     "name": "stdout",
     "output_type": "stream",
     "text": [
      "Defaulting to user installation because normal site-packages is not writeable\n",
      "Collecting flask-jwt-extended\n",
      "  Downloading Flask_JWT_Extended-4.7.1-py2.py3-none-any.whl.metadata (3.8 kB)\n",
      "Requirement already satisfied: Werkzeug>=0.14 in c:\\programdata\\anaconda3\\lib\\site-packages (from flask-jwt-extended) (3.0.3)\n",
      "Requirement already satisfied: Flask<4.0,>=2.0 in c:\\programdata\\anaconda3\\lib\\site-packages (from flask-jwt-extended) (3.0.3)\n",
      "Requirement already satisfied: PyJWT<3.0,>=2.0 in c:\\programdata\\anaconda3\\lib\\site-packages (from flask-jwt-extended) (2.8.0)\n",
      "Requirement already satisfied: Jinja2>=3.1.2 in c:\\programdata\\anaconda3\\lib\\site-packages (from Flask<4.0,>=2.0->flask-jwt-extended) (3.1.4)\n",
      "Requirement already satisfied: itsdangerous>=2.1.2 in c:\\programdata\\anaconda3\\lib\\site-packages (from Flask<4.0,>=2.0->flask-jwt-extended) (2.2.0)\n",
      "Requirement already satisfied: click>=8.1.3 in c:\\programdata\\anaconda3\\lib\\site-packages (from Flask<4.0,>=2.0->flask-jwt-extended) (8.1.7)\n",
      "Requirement already satisfied: blinker>=1.6.2 in c:\\programdata\\anaconda3\\lib\\site-packages (from Flask<4.0,>=2.0->flask-jwt-extended) (1.6.2)\n",
      "Requirement already satisfied: MarkupSafe>=2.1.1 in c:\\programdata\\anaconda3\\lib\\site-packages (from Werkzeug>=0.14->flask-jwt-extended) (2.1.3)\n",
      "Requirement already satisfied: colorama in c:\\programdata\\anaconda3\\lib\\site-packages (from click>=8.1.3->Flask<4.0,>=2.0->flask-jwt-extended) (0.4.6)\n",
      "Downloading Flask_JWT_Extended-4.7.1-py2.py3-none-any.whl (22 kB)\n",
      "Installing collected packages: flask-jwt-extended\n",
      "Successfully installed flask-jwt-extended-4.7.1\n",
      "Note: you may need to restart the kernel to use updated packages.\n"
     ]
    }
   ],
   "source": [
    "pip install flask-jwt-extended\n"
   ]
  },
  {
   "cell_type": "code",
   "execution_count": 7,
   "id": "8fa992db-b6a9-4131-b5a2-002094872295",
   "metadata": {},
   "outputs": [
    {
     "ename": "ModuleNotFoundError",
     "evalue": "No module named 'flask_jwt_extended'",
     "output_type": "error",
     "traceback": [
      "\u001b[1;31m---------------------------------------------------------------------------\u001b[0m",
      "\u001b[1;31mModuleNotFoundError\u001b[0m                       Traceback (most recent call last)",
      "Cell \u001b[1;32mIn[7], line 1\u001b[0m\n\u001b[1;32m----> 1\u001b[0m \u001b[38;5;28;01mfrom\u001b[39;00m \u001b[38;5;21;01mflask_jwt_extended\u001b[39;00m \u001b[38;5;28;01mimport\u001b[39;00m JWTManager, jwt_required, create_access_token\n\u001b[0;32m      3\u001b[0m app\u001b[38;5;241m.\u001b[39mconfig[\u001b[38;5;124m'\u001b[39m\u001b[38;5;124mJWT_SECRET_KEY\u001b[39m\u001b[38;5;124m'\u001b[39m] \u001b[38;5;241m=\u001b[39m \u001b[38;5;124m'\u001b[39m\u001b[38;5;124myour-secret-key\u001b[39m\u001b[38;5;124m'\u001b[39m\n\u001b[0;32m      4\u001b[0m jwt \u001b[38;5;241m=\u001b[39m JWTManager(app)\n",
      "\u001b[1;31mModuleNotFoundError\u001b[0m: No module named 'flask_jwt_extended'"
     ]
    }
   ],
   "source": [
    "from flask_jwt_extended import JWTManager, jwt_required, create_access_token\n",
    "\n",
    "app.config['JWT_SECRET_KEY'] = 'your-secret-key'\n",
    "jwt = JWTManager(app)\n",
    "\n",
    "@app.route('/login', methods=['POST'])\n",
    "def login():\n",
    "    username = request.json.get('username')\n",
    "    password = request.json.get('password')\n",
    "    # Replace this with real authentication logic\n",
    "    if username == 'admin' and password == 'password':\n",
    "        access_token = create_access_token(identity={'username': username})\n",
    "        return jsonify(access_token=access_token)\n",
    "    else:\n",
    "        return jsonify({'msg': 'Bad username or password'}), 401\n",
    "\n",
    "@app.route('/predict', methods=['POST'])\n",
    "@jwt_required()\n",
    "def predict():\n",
    "    try:\n",
    "        # Load model and scaler\n",
    "        model = joblib.load('models/random_forest_model.pkl')\n",
    "        scaler = joblib.load('models/scaler.pkl')\n",
    "\n",
    "        # Get input data\n",
    "        data = request.get_json()\n",
    "        input_features = np.array(data['features']).reshape(1, -1)\n",
    "\n",
    "        # Preprocess and predict\n",
    "        input_features = scaler.transform(input_features)\n",
    "        prediction = model.predict(input_features)\n",
    "        probability = model.predict_proba(input_features).tolist()\n",
    "\n",
    "        return jsonify({'prediction': int(prediction[0]), 'probability': probability})\n",
    "\n",
    "    except Exception as e:\n",
    "        return jsonify({'error': str(e)})\n"
   ]
  },
  {
   "cell_type": "code",
   "execution_count": 8,
   "id": "a4c7a7c3-f113-4934-9c8b-82e3e5bcc248",
   "metadata": {},
   "outputs": [
    {
     "name": "stdout",
     "output_type": "stream",
     "text": [
      "Note: you may need to restart the kernel to use updated packages.\n"
     ]
    }
   ],
   "source": [
    "pip freeze > requirements.txt\n"
   ]
  },
  {
   "cell_type": "code",
   "execution_count": 9,
   "id": "ae0e8708-ee67-4615-b8d1-c6fe7b5d5579",
   "metadata": {},
   "outputs": [
    {
     "ename": "SyntaxError",
     "evalue": "invalid syntax (352235188.py, line 1)",
     "output_type": "error",
     "traceback": [
      "\u001b[1;36m  Cell \u001b[1;32mIn[9], line 1\u001b[1;36m\u001b[0m\n\u001b[1;33m    curl -X POST https://your-app-name.herokuapp.com/login \\\u001b[0m\n\u001b[1;37m            ^\u001b[0m\n\u001b[1;31mSyntaxError\u001b[0m\u001b[1;31m:\u001b[0m invalid syntax\n"
     ]
    }
   ],
   "source": [
    "curl -X POST https://your-app-name.herokuapp.com/login \\\n",
    "-H \"Content-Type: application/json\" \\\n",
    "-d '{\"username\": \"admin\", \"password\": \"password\"}'\n"
   ]
  },
  {
   "cell_type": "code",
   "execution_count": 10,
   "id": "b09f003c-ffd5-4fe6-8494-2e7b5481a9fb",
   "metadata": {},
   "outputs": [
    {
     "ename": "SyntaxError",
     "evalue": "invalid syntax (1102773080.py, line 1)",
     "output_type": "error",
     "traceback": [
      "\u001b[1;36m  Cell \u001b[1;32mIn[10], line 1\u001b[1;36m\u001b[0m\n\u001b[1;33m    curl -X POST https://your-app-name.herokuapp.com/predict \\\u001b[0m\n\u001b[1;37m            ^\u001b[0m\n\u001b[1;31mSyntaxError\u001b[0m\u001b[1;31m:\u001b[0m invalid syntax\n"
     ]
    }
   ],
   "source": [
    "curl -X POST https://your-app-name.herokuapp.com/predict \\\n",
    "-H \"Content-Type: application/json\" \\\n",
    "-H \"Authorization: Bearer your_jwt_token\" \\\n",
    "-d '{\"features\": [34, 1, 120, 80, 1.2, 0, 1]}'\n"
   ]
  },
  {
   "cell_type": "code",
   "execution_count": 12,
   "id": "0b37a086-c42f-49d9-9d34-32b16289d7a0",
   "metadata": {},
   "outputs": [
    {
     "ename": "NameError",
     "evalue": "name 'app' is not defined",
     "output_type": "error",
     "traceback": [
      "\u001b[1;31m---------------------------------------------------------------------------\u001b[0m",
      "\u001b[1;31mNameError\u001b[0m                                 Traceback (most recent call last)",
      "Cell \u001b[1;32mIn[12], line 6\u001b[0m\n\u001b[0;32m      1\u001b[0m \u001b[38;5;28;01mimport\u001b[39;00m \u001b[38;5;21;01mlogging\u001b[39;00m\n\u001b[0;32m      3\u001b[0m logging\u001b[38;5;241m.\u001b[39mbasicConfig(filename\u001b[38;5;241m=\u001b[39m\u001b[38;5;124m'\u001b[39m\u001b[38;5;124mapp.log\u001b[39m\u001b[38;5;124m'\u001b[39m, level\u001b[38;5;241m=\u001b[39mlogging\u001b[38;5;241m.\u001b[39mINFO, \n\u001b[0;32m      4\u001b[0m                     \u001b[38;5;28mformat\u001b[39m\u001b[38;5;241m=\u001b[39m\u001b[38;5;124m'\u001b[39m\u001b[38;5;132;01m%(asctime)s\u001b[39;00m\u001b[38;5;124m:\u001b[39m\u001b[38;5;132;01m%(levelname)s\u001b[39;00m\u001b[38;5;124m:\u001b[39m\u001b[38;5;132;01m%(message)s\u001b[39;00m\u001b[38;5;124m'\u001b[39m)\n\u001b[1;32m----> 6\u001b[0m \u001b[38;5;129m@app\u001b[39m\u001b[38;5;241m.\u001b[39merrorhandler(\u001b[38;5;167;01mException\u001b[39;00m)\n\u001b[0;32m      7\u001b[0m \u001b[38;5;28;01mdef\u001b[39;00m \u001b[38;5;21mhandle_exception\u001b[39m(e):\n\u001b[0;32m      8\u001b[0m     logging\u001b[38;5;241m.\u001b[39merror(\u001b[38;5;124mf\u001b[39m\u001b[38;5;124m\"\u001b[39m\u001b[38;5;124mAn error occurred: \u001b[39m\u001b[38;5;132;01m{\u001b[39;00m\u001b[38;5;28mstr\u001b[39m(e)\u001b[38;5;132;01m}\u001b[39;00m\u001b[38;5;124m\"\u001b[39m)\n\u001b[0;32m      9\u001b[0m     \u001b[38;5;28;01mreturn\u001b[39;00m jsonify({\u001b[38;5;124m'\u001b[39m\u001b[38;5;124merror\u001b[39m\u001b[38;5;124m'\u001b[39m: \u001b[38;5;124m'\u001b[39m\u001b[38;5;124mAn internal error occurred\u001b[39m\u001b[38;5;124m'\u001b[39m}), \u001b[38;5;241m500\u001b[39m\n",
      "\u001b[1;31mNameError\u001b[0m: name 'app' is not defined"
     ]
    }
   ],
   "source": [
    "import logging\n",
    "\n",
    "logging.basicConfig(filename='app.log', level=logging.INFO, \n",
    "                    format='%(asctime)s:%(levelname)s:%(message)s')\n",
    "\n",
    "@app.errorhandler(Exception)\n",
    "def handle_exception(e):\n",
    "    logging.error(f\"An error occurred: {str(e)}\")\n",
    "    return jsonify({'error': 'An internal error occurred'}), 500\n"
   ]
  },
  {
   "cell_type": "code",
   "execution_count": null,
   "id": "3f23c7f6-239e-49c4-b66c-8cb859785c79",
   "metadata": {},
   "outputs": [],
   "source": []
  },
  {
   "cell_type": "code",
   "execution_count": null,
   "id": "1e29e85b-5bc8-467a-81a3-60c21e054f35",
   "metadata": {},
   "outputs": [],
   "source": []
  }
 ],
 "metadata": {
  "kernelspec": {
   "display_name": "Python 3 (ipykernel)",
   "language": "python",
   "name": "python3"
  },
  "language_info": {
   "codemirror_mode": {
    "name": "ipython",
    "version": 3
   },
   "file_extension": ".py",
   "mimetype": "text/x-python",
   "name": "python",
   "nbconvert_exporter": "python",
   "pygments_lexer": "ipython3",
   "version": "3.12.7"
  }
 },
 "nbformat": 4,
 "nbformat_minor": 5
}
